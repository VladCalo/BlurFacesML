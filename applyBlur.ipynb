{
 "cells": [
  {
   "cell_type": "code",
   "execution_count": 1,
   "id": "6d061c3e",
   "metadata": {},
   "outputs": [],
   "source": [
    "import cv2\n",
    "import numpy as np\n",
    "from mtcnn import MTCNN"
   ]
  },
  {
   "cell_type": "code",
   "execution_count": 2,
   "id": "53c1e8ce",
   "metadata": {},
   "outputs": [],
   "source": [
    "detector = MTCNN()"
   ]
  },
  {
   "cell_type": "code",
   "execution_count": 3,
   "id": "aefd209f",
   "metadata": {},
   "outputs": [],
   "source": [
    "def blur_faces(image_path):\n",
    "    img = cv2.imread(image_path)\n",
    "\n",
    "    # Detect faces in the image\n",
    "    faces = detector.detect_faces(img)\n",
    "\n",
    "    # Blur each detected face\n",
    "    for face in faces:\n",
    "        x, y, width, height = face['box']\n",
    "        roi = img[y:y + height, x:x + width]\n",
    "        \n",
    "        # Apply simple blurring\n",
    "        roi = cv2.GaussianBlur(roi, (99, 99), 30)\n",
    "\n",
    "        # Replace the original face with the blurred face\n",
    "        img[y:y + roi.shape[0], x:x + roi.shape[1]] = roi\n",
    "\n",
    "    # Display the result\n",
    "    cv2.imshow(\"Blurred Faces\", img)\n",
    "    cv2.waitKey(0)\n",
    "    cv2.destroyAllWindows()"
   ]
  },
  {
   "cell_type": "code",
   "execution_count": 4,
   "id": "7bd6b224",
   "metadata": {},
   "outputs": [],
   "source": [
    "def blur_faces2(image_path):\n",
    "    img = cv2.imread(image_path)\n",
    "\n",
    "    # Detect faces in the image\n",
    "    faces = detector.detect_faces(img)\n",
    "    print(\"Number of faces:\" + str(len(faces)))\n",
    "\n",
    "    # Create a copy of the original image for blurring\n",
    "    img_blurred = img.copy()\n",
    "\n",
    "    # Blur each detected face\n",
    "    for face in faces:\n",
    "        x, y, width, height = face['box']\n",
    "        x, y, width, height = int(x), int(y), int(width), int(height)\n",
    "\n",
    "        # Extract the region of interest (ROI) from the image\n",
    "        roi = img_blurred[y:y + height, x:x + width]\n",
    "\n",
    "        # Apply simple blurring to the extracted face region\n",
    "        roi = cv2.GaussianBlur(roi, (99, 99), 30)\n",
    "\n",
    "        # Replace the original face with the blurred face\n",
    "        img[y:y + height, x:x + width] = roi\n",
    "\n",
    "    # Display the result\n",
    "    cv2.imshow(\"Blurred Faces\", img)\n",
    "    cv2.waitKey(0)\n",
    "    cv2.destroyAllWindows()"
   ]
  },
  {
   "cell_type": "code",
   "execution_count": null,
   "id": "bb19e1e7",
   "metadata": {},
   "outputs": [
    {
     "name": "stdout",
     "output_type": "stream",
     "text": [
      "1/1 [==============================] - 0s 383ms/step\n",
      "1/1 [==============================] - 0s 163ms/step\n",
      "1/1 [==============================] - 0s 69ms/step\n",
      "1/1 [==============================] - 0s 38ms/step\n",
      "1/1 [==============================] - 0s 23ms/step\n",
      "1/1 [==============================] - 0s 16ms/step\n",
      "1/1 [==============================] - 0s 13ms/step\n",
      "1/1 [==============================] - 0s 11ms/step\n",
      "1/1 [==============================] - 0s 10ms/step\n",
      "1/1 [==============================] - 0s 9ms/step\n",
      "1/1 [==============================] - 0s 8ms/step\n",
      "1/1 [==============================] - 0s 8ms/step\n",
      "1/1 [==============================] - 0s 8ms/step\n",
      "1/1 [==============================] - 0s 8ms/step\n",
      "1/1 [==============================] - 0s 8ms/step\n",
      "150/150 [==============================] - 0s 2ms/step\n",
      "4/4 [==============================] - 0s 6ms/step\n"
     ]
    }
   ],
   "source": [
    "blur_faces('test_img3.jpg') # input the image"
   ]
  },
  {
   "cell_type": "code",
   "execution_count": null,
   "id": "1958995f",
   "metadata": {},
   "outputs": [],
   "source": []
  }
 ],
 "metadata": {
  "kernelspec": {
   "display_name": "Python 3 (ipykernel)",
   "language": "python",
   "name": "python3"
  },
  "language_info": {
   "codemirror_mode": {
    "name": "ipython",
    "version": 3
   },
   "file_extension": ".py",
   "mimetype": "text/x-python",
   "name": "python",
   "nbconvert_exporter": "python",
   "pygments_lexer": "ipython3",
   "version": "3.11.5"
  }
 },
 "nbformat": 4,
 "nbformat_minor": 5
}
