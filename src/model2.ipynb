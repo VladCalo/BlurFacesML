{
 "cells": [
  {
   "cell_type": "code",
   "execution_count": 103,
   "metadata": {},
   "outputs": [],
   "source": [
    "import os\n",
    "import cv2\n",
    "import numpy as np\n",
    "from sklearn.model_selection import train_test_split\n",
    "import tensorflow as tf\n",
    "from tensorflow.keras import models, layers, optimizers\n",
    "from tensorflow.keras.models import load_model\n",
    "from mtcnn.mtcnn import MTCNN\n",
    "from tensorflow.keras.applications import VGG16\n",
    "from tensorflow.keras.preprocessing.image import ImageDataGenerator\n",
    "from tensorflow.keras.optimizers import Adam\n",
    "from tensorflow.keras.preprocessing.image import img_to_array, load_img\n",
    "from sklearn.preprocessing import StandardScaler\n",
    "from sklearn.pipeline import make_pipeline\n",
    "from sklearn.svm import SVC"
   ]
  },
  {
   "cell_type": "code",
   "execution_count": 104,
   "metadata": {},
   "outputs": [],
   "source": [
    "def load_data(folder_path, num_images=None):\n",
    "    images = []\n",
    "\n",
    "    for filename in os.listdir(folder_path):\n",
    "        if num_images is not None and len(images) >= num_images:\n",
    "            break\n",
    "\n",
    "        img_path = os.path.join(folder_path, filename)\n",
    "        img = cv2.imread(img_path)\n",
    "        img = cv2.cvtColor(img, cv2.COLOR_BGR2GRAY)  \n",
    "        img = cv2.resize(img, (64, 64))  \n",
    "        images.append(img)\n",
    "\n",
    "    return np.array(images)\n"
   ]
  },
  {
   "cell_type": "code",
   "execution_count": 105,
   "metadata": {},
   "outputs": [],
   "source": [
    "def build_and_train_autoencoder(X_train, X_test):\n",
    "    model = models.Sequential([\n",
    "        layers.Input(shape=(64, 64, 1)),\n",
    "        layers.Conv2D(32, (3, 3), activation='relu', padding='same'),\n",
    "        layers.MaxPooling2D((2, 2), padding='same'),\n",
    "        layers.Conv2D(64, (3, 3), activation='relu', padding='same'),\n",
    "        layers.MaxPooling2D((2, 2), padding='same'),\n",
    "        layers.Conv2D(128, (3, 3), activation='relu', padding='same'),\n",
    "        layers.MaxPooling2D((2, 2), padding='same'),\n",
    "        layers.Conv2D(256, (3, 3), activation='relu', padding='same'),\n",
    "        layers.MaxPooling2D((2, 2), padding='same'),\n",
    "        layers.Conv2D(256, (3, 3), activation='relu', padding='same'),\n",
    "        layers.UpSampling2D((2, 2)),\n",
    "        layers.Conv2D(128, (3, 3), activation='relu', padding='same'),\n",
    "        layers.UpSampling2D((2, 2)),\n",
    "        layers.Conv2D(64, (3, 3), activation='relu', padding='same'),\n",
    "        layers.UpSampling2D((2, 2)),\n",
    "        layers.Conv2D(32, (3, 3), activation='relu', padding='same'),\n",
    "        layers.UpSampling2D((2, 2)),\n",
    "        layers.Conv2D(1, (3, 3), activation='sigmoid', padding='same')\n",
    "    ])\n",
    "\n",
    "    model.compile(optimizer='adam', loss='binary_crossentropy')\n",
    "\n",
    "    model.fit(X_train, X_train, epochs=10, batch_size=32, validation_data=(X_test, X_test))\n",
    "    \n",
    "    return model\n"
   ]
  },
  {
   "cell_type": "code",
   "execution_count": 106,
   "metadata": {},
   "outputs": [
    {
     "name": "stdout",
     "output_type": "stream",
     "text": [
      "10000\n"
     ]
    }
   ],
   "source": [
    "folder_path = \"/Users/vladcalomfirescu/Desktop/MyFiles/FAC/master/an 1/sem 1/PPC/BlurFacesML/data/img_align_celeba\"\n",
    "X = load_data(folder_path, num_images=10000)\n",
    "print(len(X))"
   ]
  },
  {
   "cell_type": "code",
   "execution_count": 107,
   "metadata": {},
   "outputs": [],
   "source": [
    "X_train, X_test = train_test_split(X, test_size=0.2, random_state=42)\n",
    "\n",
    "X_train = X_train / 255.0\n",
    "X_test = X_test / 255.0\n",
    "\n",
    "X_train = X_train.reshape(-1, 64, 64, 1)\n",
    "X_test = X_test.reshape(-1, 64, 64, 1)"
   ]
  },
  {
   "cell_type": "code",
   "execution_count": 108,
   "metadata": {},
   "outputs": [
    {
     "name": "stdout",
     "output_type": "stream",
     "text": [
      "Epoch 1/10\n",
      "250/250 [==============================] - 34s 135ms/step - loss: 0.5861 - val_loss: 0.5338\n",
      "Epoch 2/10\n",
      "250/250 [==============================] - 35s 140ms/step - loss: 0.5305 - val_loss: 0.5260\n",
      "Epoch 3/10\n",
      "250/250 [==============================] - 34s 136ms/step - loss: 0.5249 - val_loss: 0.5190\n",
      "Epoch 4/10\n",
      "250/250 [==============================] - 35s 139ms/step - loss: 0.5217 - val_loss: 0.5187\n",
      "Epoch 5/10\n",
      "250/250 [==============================] - 34s 135ms/step - loss: 0.5196 - val_loss: 0.5152\n",
      "Epoch 6/10\n",
      "250/250 [==============================] - 35s 139ms/step - loss: 0.5181 - val_loss: 0.5142\n",
      "Epoch 7/10\n",
      "250/250 [==============================] - 34s 136ms/step - loss: 0.5167 - val_loss: 0.5135\n",
      "Epoch 8/10\n",
      "250/250 [==============================] - 35s 139ms/step - loss: 0.5157 - val_loss: 0.5123\n",
      "Epoch 9/10\n",
      "250/250 [==============================] - 34s 136ms/step - loss: 0.5150 - val_loss: 0.5110\n",
      "Epoch 10/10\n",
      "250/250 [==============================] - 35s 140ms/step - loss: 0.5141 - val_loss: 0.5107\n"
     ]
    },
    {
     "name": "stderr",
     "output_type": "stream",
     "text": [
      "/Users/vladcalomfirescu/anaconda3/lib/python3.11/site-packages/keras/src/engine/training.py:3103: UserWarning: You are saving your model as an HDF5 file via `model.save()`. This file format is considered legacy. We recommend using instead the native Keras format, e.g. `model.save('my_model.keras')`.\n",
      "  saving_api.save_model(\n"
     ]
    }
   ],
   "source": [
    "autoencoder_model = build_and_train_autoencoder(X_train, X_test)\n",
    "autoencoder_model.save(\"autoencoder_model.h5\")"
   ]
  },
  {
   "cell_type": "code",
   "execution_count": null,
   "metadata": {},
   "outputs": [],
   "source": [
    "encoded_X_train = autoencoder_model.predict(X_train)\n",
    "encoded_X_test = autoencoder_model.predict(X_test)\n",
    "\n",
    "reconstruction_errors_train = np.mean(np.abs(X_train - encoded_X_train), axis=(1, 2, 3))\n",
    "reconstruction_errors_test = np.mean(np.abs(X_test - encoded_X_test), axis=(1, 2, 3))\n",
    "\n",
    "threshold = 0.1  \n",
    "\n",
    "predictions_train = (reconstruction_errors_train > threshold).astype(int)\n",
    "\n",
    "predictions_test = (reconstruction_errors_test > threshold).astype(int)\n",
    "\n",
    "\n",
    "print(\"Training results:\")\n",
    "print(\"Faces detected:\", np.sum(predictions_train))\n",
    "print(\"No faces detected:\", len(predictions_train) - np.sum(predictions_train))\n",
    "\n",
    "print(\"\\nTesting results:\")\n",
    "print(\"Faces detected:\", np.sum(predictions_test))\n",
    "print(\"No faces detected:\", len(predictions_test) - np.sum(predictions_test))\n"
   ]
  },
  {
   "cell_type": "code",
   "execution_count": 113,
   "metadata": {},
   "outputs": [
    {
     "name": "stdout",
     "output_type": "stream",
     "text": [
      "WARNING:tensorflow:5 out of the last 67 calls to <function Model.make_predict_function.<locals>.predict_function at 0x2868f5f80> triggered tf.function retracing. Tracing is expensive and the excessive number of tracings could be due to (1) creating @tf.function repeatedly in a loop, (2) passing tensors with different shapes, (3) passing Python objects instead of tensors. For (1), please define your @tf.function outside of the loop. For (2), @tf.function has reduce_retracing=True option that can avoid unnecessary retracing. For (3), please refer to https://www.tensorflow.org/guide/function#controlling_retracing and https://www.tensorflow.org/api_docs/python/tf/function for  more details.\n",
      "1/1 [==============================] - 0s 52ms/step\n",
      "No face detected.\n"
     ]
    }
   ],
   "source": [
    "def classify_large_image(autoencoder_model, larger_image_path, threshold=0.1):\n",
    "    larger_image = cv2.imread(larger_image_path)\n",
    "    larger_image_gray = cv2.cvtColor(larger_image, cv2.COLOR_BGR2GRAY)\n",
    "    larger_image_resized = cv2.resize(larger_image_gray, (64, 64)) / 255.0\n",
    "    larger_image_input = np.expand_dims(np.expand_dims(larger_image_resized, axis=0), axis=-1)\n",
    "\n",
    "    encoded_larger_image = autoencoder_model.predict(larger_image_input)\n",
    "\n",
    "    reconstruction_error = np.mean(np.abs(larger_image_input - encoded_larger_image))\n",
    "\n",
    "    if reconstruction_error > threshold:\n",
    "        print(\"Face detected!\")\n",
    "    else:\n",
    "        print(\"No face detected.\")\n",
    "\n",
    "autoencoder_model = load_model(\"autoencoder_model.h5\")\n",
    "larger_image_path = \"/Users/vladcalomfirescu/Desktop/MyFiles/FAC/master/an 1/sem 1/PPC/BlurFacesML/data/pexels-pixabay-417173.jpg\"\n",
    "classify_large_image(autoencoder_model, larger_image_path, threshold=0.1)"
   ]
  }
 ],
 "metadata": {
  "kernelspec": {
   "display_name": "base",
   "language": "python",
   "name": "python3"
  },
  "language_info": {
   "codemirror_mode": {
    "name": "ipython",
    "version": 3
   },
   "file_extension": ".py",
   "mimetype": "text/x-python",
   "name": "python",
   "nbconvert_exporter": "python",
   "pygments_lexer": "ipython3",
   "version": "3.11.5"
  }
 },
 "nbformat": 4,
 "nbformat_minor": 2
}
