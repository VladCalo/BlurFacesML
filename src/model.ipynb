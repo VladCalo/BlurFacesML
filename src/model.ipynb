{
 "cells": [
  {
   "cell_type": "code",
   "execution_count": 30,
   "metadata": {},
   "outputs": [],
   "source": [
    "import os\n",
    "import cv2\n",
    "import numpy as np\n",
    "from sklearn.model_selection import train_test_split\n",
    "import tensorflow as tf\n",
    "from tensorflow.keras import models, layers, optimizers\n",
    "from tensorflow.keras.models import load_model\n",
    "from mtcnn.mtcnn import MTCNN\n",
    "from tensorflow.keras.applications import VGG16\n",
    "from tensorflow.keras.preprocessing.image import ImageDataGenerator\n",
    "from tensorflow.keras.optimizers import Adam\n",
    "from tensorflow.keras.preprocessing.image import img_to_array, load_img\n",
    "\n"
   ]
  },
  {
   "cell_type": "code",
   "execution_count": 31,
   "metadata": {},
   "outputs": [],
   "source": [
    "data_folder = \"/Users/vladcalomfirescu/Desktop/MyFiles/FAC/master/an 1/sem 1/PPC/BlurFacesML/data/img_align_celeba\""
   ]
  },
  {
   "cell_type": "code",
   "execution_count": 32,
   "metadata": {},
   "outputs": [],
   "source": [
    "def load_images_rgb(folder_path, num_images=3):\n",
    "    images = []\n",
    "    labels = []\n",
    "    \n",
    "    count = 0  # Counter to load only the specified number of images\n",
    "    \n",
    "    for filename in os.listdir(folder_path):\n",
    "        if filename.endswith(\".jpg\"):\n",
    "            img_path = os.path.join(folder_path, filename)\n",
    "            \n",
    "            # Read and resize the image to match VGG16 input size\n",
    "            img = load_img(img_path, target_size=(224, 224))\n",
    "            img_array = img_to_array(img)\n",
    "            \n",
    "            # Normalize pixel values to be between 0 and 1\n",
    "            normalized_img = img_array / 255.0\n",
    "            \n",
    "            # Append the image and label to the lists\n",
    "            images.append(normalized_img)\n",
    "            labels.append(1)  # You can set a label indicating the presence of a face\n",
    "            \n",
    "            count += 1\n",
    "            if count == num_images:\n",
    "                break\n",
    "    \n",
    "    return np.array(images), np.array(labels)\n",
    "\n",
    "# Load and preprocess three images with RGB channels\n",
    "images_rgb, labels_rgb = load_images_rgb(data_folder, num_images=10000)\n"
   ]
  },
  {
   "cell_type": "code",
   "execution_count": 33,
   "metadata": {},
   "outputs": [
    {
     "name": "stdout",
     "output_type": "stream",
     "text": [
      "Training images shape: (8000, 224, 224, 3)\n",
      "Validation images shape: (2000, 224, 224, 3)\n"
     ]
    }
   ],
   "source": [
    "train_images_rgb, val_images_rgb, train_labels_rgb, val_labels_rgb = train_test_split(images_rgb, labels_rgb, test_size=0.2, random_state=42)\n",
    "print(\"Training images shape:\", train_images_rgb.shape)\n",
    "print(\"Validation images shape:\", val_images_rgb.shape)\n"
   ]
  },
  {
   "cell_type": "code",
   "execution_count": 34,
   "metadata": {},
   "outputs": [
    {
     "name": "stdout",
     "output_type": "stream",
     "text": [
      "Epoch 1/10\n",
      "250/250 [==============================] - 894s 4s/step - loss: 0.0018 - accuracy: 0.9998 - val_loss: 0.0000e+00 - val_accuracy: 1.0000\n",
      "Epoch 2/10\n",
      "250/250 [==============================] - 1035s 4s/step - loss: 6.8323e-37 - accuracy: 1.0000 - val_loss: 0.0000e+00 - val_accuracy: 1.0000\n",
      "Epoch 3/10\n",
      "250/250 [==============================] - 863s 3s/step - loss: 6.8323e-37 - accuracy: 1.0000 - val_loss: 0.0000e+00 - val_accuracy: 1.0000\n",
      "Epoch 4/10\n",
      "250/250 [==============================] - 868s 3s/step - loss: 6.8325e-37 - accuracy: 1.0000 - val_loss: 0.0000e+00 - val_accuracy: 1.0000\n",
      "Epoch 5/10\n",
      "250/250 [==============================] - 862s 3s/step - loss: 6.8328e-37 - accuracy: 1.0000 - val_loss: 0.0000e+00 - val_accuracy: 1.0000\n",
      "Epoch 6/10\n",
      "250/250 [==============================] - 1548s 6s/step - loss: 6.8328e-37 - accuracy: 1.0000 - val_loss: 0.0000e+00 - val_accuracy: 1.0000\n",
      "Epoch 7/10\n",
      "250/250 [==============================] - 3817s 15s/step - loss: 6.8323e-37 - accuracy: 1.0000 - val_loss: 0.0000e+00 - val_accuracy: 1.0000\n",
      "Epoch 8/10\n",
      "250/250 [==============================] - 2237s 9s/step - loss: 6.8324e-37 - accuracy: 1.0000 - val_loss: 0.0000e+00 - val_accuracy: 1.0000\n",
      "Epoch 9/10\n",
      "250/250 [==============================] - 1725s 7s/step - loss: 6.8328e-37 - accuracy: 1.0000 - val_loss: 0.0000e+00 - val_accuracy: 1.0000\n",
      "Epoch 10/10\n",
      "250/250 [==============================] - 859s 3s/step - loss: 6.8323e-37 - accuracy: 1.0000 - val_loss: 0.0000e+00 - val_accuracy: 1.0000\n",
      "63/63 [==============================] - 169s 3s/step - loss: 0.0000e+00 - accuracy: 1.0000\n",
      "Validation accuracy: 1.0\n"
     ]
    }
   ],
   "source": [
    "base_model = VGG16(weights='imagenet', include_top=False, input_shape=(224, 224, 3))\n",
    "\n",
    "# Freeze the convolutional layers\n",
    "for layer in base_model.layers:\n",
    "    layer.trainable = False\n",
    "\n",
    "# Create a new model using the VGG16 base and add your own layers\n",
    "model = models.Sequential()\n",
    "model.add(base_model)\n",
    "model.add(layers.Flatten())\n",
    "model.add(layers.Dense(64, activation='relu'))\n",
    "model.add(layers.Dense(1, activation='sigmoid'))\n",
    "\n",
    "# Compile the model\n",
    "model.compile(optimizer='adam', loss='binary_crossentropy', metrics=['accuracy'])\n",
    "\n",
    "# Train the model\n",
    "model.fit(train_images_rgb, train_labels_rgb, epochs=10, validation_data=(val_images_rgb, val_labels_rgb))\n",
    "\n",
    "# Evaluate the model on the validation set\n",
    "val_loss, val_acc = model.evaluate(val_images_rgb, val_labels_rgb)\n",
    "print(f\"Validation accuracy: {val_acc}\")\n"
   ]
  },
  {
   "cell_type": "code",
   "execution_count": 35,
   "metadata": {},
   "outputs": [
    {
     "name": "stderr",
     "output_type": "stream",
     "text": [
      "/Users/vladcalomfirescu/anaconda3/lib/python3.11/site-packages/keras/src/engine/training.py:3103: UserWarning: You are saving your model as an HDF5 file via `model.save()`. This file format is considered legacy. We recommend using instead the native Keras format, e.g. `model.save('my_model.keras')`.\n",
      "  saving_api.save_model(\n"
     ]
    }
   ],
   "source": [
    "model.save(\"face_detection_model1.h5\")"
   ]
  },
  {
   "cell_type": "code",
   "execution_count": 39,
   "metadata": {},
   "outputs": [
    {
     "name": "stdout",
     "output_type": "stream",
     "text": [
      "1/1 [==============================] - 0s 156ms/step\n",
      "Face detected on mountains image: True\n"
     ]
    }
   ],
   "source": [
    "model = load_model(\"face_detection_model1.h5\")\n",
    "face = cv2.imread(\"/Users/vladcalomfirescu/Desktop/MyFiles/FAC/master/an 1/sem 1/PPC/BlurFacesML/data/test_img.jpg\")\n",
    "mountains_image = cv2.imread(\"/Users/vladcalomfirescu/Desktop/MyFiles/FAC/master/an 1/sem 1/PPC/BlurFacesML/data/pexels-pixabay-417173.jpg\")\n",
    "resized_mountains = cv2.resize(mountains_image, (224, 224))\n",
    "normalized_mountains = resized_mountains / 255.0\n",
    "input_mountains = normalized_mountains.reshape(1, 224, 224, 3)  # Assuming the model expects 3 channels\n",
    "\n",
    "prediction_mountains = model.predict(input_mountains)\n",
    "print(\"Face detected on mountains image:\", prediction_mountains[0][0] >= 1)"
   ]
  },
  {
   "cell_type": "code",
   "execution_count": 16,
   "metadata": {},
   "outputs": [
    {
     "name": "stdout",
     "output_type": "stream",
     "text": [
      "1/1 [==============================] - 0s 39ms/step\n",
      "Face detected: True\n"
     ]
    }
   ],
   "source": [
    "model = load_model(\"face_detection_model.h5\")\n",
    "\n",
    "def sliding_window(image, step_size, window_size):\n",
    "    for y in range(0, image.shape[0] - window_size[1], step_size):\n",
    "        for x in range(0, image.shape[1] - window_size[0], step_size):\n",
    "            yield (x, y, image[y:y + window_size[1], x:x + window_size[0]])\n",
    "\n",
    "# Load the larger image\n",
    "large_image = cv2.imread(\"/Users/vladcalomfirescu/Desktop/MyFiles/FAC/master/an 1/sem 1/PPC/BlurFacesML/data/pexels-pixabay-417173.jpg\")\n",
    "\n",
    "# Define the window size and step size\n",
    "window_size = (218, 178)\n",
    "step_size = 10\n",
    "\n",
    "# Create a flag to indicate if a face is detected\n",
    "face_detected = False\n",
    "\n",
    "# Iterate over windows and make predictions\n",
    "for (x, y, window) in sliding_window(large_image, step_size, window_size):\n",
    "    # Resize the window to match the input shape expected by the model\n",
    "    resized_window = cv2.resize(window, (218, 178))\n",
    "    \n",
    "    # Preprocess the window\n",
    "    window_gray = cv2.cvtColor(resized_window, cv2.COLOR_BGR2GRAY)\n",
    "    window_normalized = window_gray / 255.0\n",
    "    window_input = window_normalized.reshape(1, 218, 178, 1)\n",
    "\n",
    "    # Make predictions using the model\n",
    "    prediction = model.predict(window_input)\n",
    "\n",
    "    # Assuming 0.5 as the threshold for face detection\n",
    "    if prediction[0][0] > 0.9:\n",
    "        face_detected = True\n",
    "        break  # Exit the loop if a face is detected\n",
    "\n",
    "# Output True if a face is detected, False otherwise\n",
    "print(\"Face detected:\", face_detected)"
   ]
  }
 ],
 "metadata": {
  "kernelspec": {
   "display_name": "base",
   "language": "python",
   "name": "python3"
  },
  "language_info": {
   "codemirror_mode": {
    "name": "ipython",
    "version": 3
   },
   "file_extension": ".py",
   "mimetype": "text/x-python",
   "name": "python",
   "nbconvert_exporter": "python",
   "pygments_lexer": "ipython3",
   "version": "3.11.5"
  }
 },
 "nbformat": 4,
 "nbformat_minor": 2
}
