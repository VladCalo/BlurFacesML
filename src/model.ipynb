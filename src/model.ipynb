{
 "cells": [
  {
   "cell_type": "code",
   "execution_count": 1,
   "metadata": {},
   "outputs": [],
   "source": [
    "import os\n",
    "import cv2\n",
    "import numpy as np\n",
    "from sklearn.model_selection import train_test_split\n",
    "import tensorflow as tf\n",
    "from tensorflow.keras import layers, models\n",
    "from tensorflow.keras.models import load_model\n",
    "from mtcnn.mtcnn import MTCNN"
   ]
  },
  {
   "cell_type": "code",
   "execution_count": 2,
   "metadata": {},
   "outputs": [],
   "source": [
    "data_folder = \"/Users/vladcalomfirescu/Desktop/MyFiles/FAC/master/an 1/sem 1/PPC/BlurFacesML/data/img_align_celeba\""
   ]
  },
  {
   "cell_type": "code",
   "execution_count": 7,
   "metadata": {},
   "outputs": [
    {
     "name": "stdout",
     "output_type": "stream",
     "text": [
      "Training images shape: (8000, 218, 178)\n",
      "Validation images shape: (2000, 218, 178)\n"
     ]
    }
   ],
   "source": [
    "def load_images(folder_path, num_images=3):\n",
    "    images = []\n",
    "    labels = []\n",
    "    \n",
    "    count = 0  # Counter to load only the specified number of images\n",
    "    \n",
    "    for filename in os.listdir(folder_path):\n",
    "        if filename.endswith(\".jpg\"):\n",
    "            img_path = os.path.join(folder_path, filename)\n",
    "            \n",
    "            # Read the image\n",
    "            img = cv2.imread(img_path)\n",
    "            \n",
    "            # Convert the image to grayscale\n",
    "            gray_img = cv2.cvtColor(img, cv2.COLOR_BGR2GRAY)\n",
    "            \n",
    "            # Normalize pixel values to be between 0 and 1\n",
    "            normalized_img = gray_img / 255.0\n",
    "            \n",
    "            # Append the image and label to the lists\n",
    "            images.append(normalized_img)\n",
    "            labels.append(1)  # You can set a label indicating the presence of a face\n",
    "            \n",
    "            count += 1\n",
    "            if count == num_images:\n",
    "                break\n",
    "    \n",
    "    return np.array(images), np.array(labels)\n",
    "\n",
    "# Load and preprocess three images\n",
    "images, labels = load_images(data_folder, num_images=10000)\n",
    "\n",
    "# Split the data into training and validation sets\n",
    "train_images, val_images, train_labels, val_labels = train_test_split(images, labels, test_size=0.2, random_state=42)\n",
    "\n",
    "# Print the shape of the training and validation sets\n",
    "print(\"Training images shape:\", train_images.shape)\n",
    "print(\"Validation images shape:\", val_images.shape)"
   ]
  },
  {
   "cell_type": "code",
   "execution_count": 8,
   "metadata": {},
   "outputs": [],
   "source": [
    "train_images = train_images.reshape(train_images.shape[0], train_images.shape[1], train_images.shape[2], 1)\n",
    "val_images = val_images.reshape(val_images.shape[0], val_images.shape[1], val_images.shape[2], 1)"
   ]
  },
  {
   "cell_type": "code",
   "execution_count": 9,
   "metadata": {},
   "outputs": [
    {
     "name": "stdout",
     "output_type": "stream",
     "text": [
      "Epoch 1/10\n",
      "250/250 [==============================] - 85s 338ms/step - loss: 0.0028 - accuracy: 0.9994 - val_loss: 0.0000e+00 - val_accuracy: 1.0000\n",
      "Epoch 2/10\n",
      "250/250 [==============================] - 82s 328ms/step - loss: 0.0000e+00 - accuracy: 1.0000 - val_loss: 0.0000e+00 - val_accuracy: 1.0000\n",
      "Epoch 3/10\n",
      "250/250 [==============================] - 77s 309ms/step - loss: 0.0000e+00 - accuracy: 1.0000 - val_loss: 0.0000e+00 - val_accuracy: 1.0000\n",
      "Epoch 4/10\n",
      "250/250 [==============================] - 77s 308ms/step - loss: 0.0000e+00 - accuracy: 1.0000 - val_loss: 0.0000e+00 - val_accuracy: 1.0000\n",
      "Epoch 5/10\n",
      "250/250 [==============================] - 77s 307ms/step - loss: 0.0000e+00 - accuracy: 1.0000 - val_loss: 0.0000e+00 - val_accuracy: 1.0000\n",
      "Epoch 6/10\n",
      "250/250 [==============================] - 77s 310ms/step - loss: 0.0000e+00 - accuracy: 1.0000 - val_loss: 0.0000e+00 - val_accuracy: 1.0000\n",
      "Epoch 7/10\n",
      "250/250 [==============================] - 77s 308ms/step - loss: 0.0000e+00 - accuracy: 1.0000 - val_loss: 0.0000e+00 - val_accuracy: 1.0000\n",
      "Epoch 8/10\n",
      "250/250 [==============================] - 76s 303ms/step - loss: 0.0000e+00 - accuracy: 1.0000 - val_loss: 0.0000e+00 - val_accuracy: 1.0000\n",
      "Epoch 9/10\n",
      "250/250 [==============================] - 76s 303ms/step - loss: 0.0000e+00 - accuracy: 1.0000 - val_loss: 0.0000e+00 - val_accuracy: 1.0000\n",
      "Epoch 10/10\n",
      "250/250 [==============================] - 78s 310ms/step - loss: 0.0000e+00 - accuracy: 1.0000 - val_loss: 0.0000e+00 - val_accuracy: 1.0000\n",
      "63/63 [==============================] - 5s 76ms/step - loss: 0.0000e+00 - accuracy: 1.0000\n",
      "Validation accuracy: 1.0\n"
     ]
    }
   ],
   "source": [
    "# Define the CNN model\n",
    "model = models.Sequential()\n",
    "model.add(layers.Conv2D(32, (3, 3), activation='relu', input_shape=(train_images.shape[1], train_images.shape[2], 1)))\n",
    "model.add(layers.MaxPooling2D((2, 2)))\n",
    "model.add(layers.Conv2D(64, (3, 3), activation='relu'))\n",
    "model.add(layers.MaxPooling2D((2, 2)))\n",
    "model.add(layers.Conv2D(64, (3, 3), activation='relu'))\n",
    "model.add(layers.Flatten())\n",
    "model.add(layers.Dense(64, activation='relu'))\n",
    "model.add(layers.Dense(1, activation='sigmoid'))  # Binary classification (face or not)\n",
    "\n",
    "# Compile the model\n",
    "model.compile(optimizer='adam', loss='binary_crossentropy', metrics=['accuracy'])\n",
    "\n",
    "# Train the model\n",
    "model.fit(train_images, train_labels, epochs=10, validation_data=(val_images, val_labels))\n",
    "\n",
    "# Evaluate the model on the validation set\n",
    "val_loss, val_acc = model.evaluate(val_images, val_labels)\n",
    "print(f\"Validation accuracy: {val_acc}\")"
   ]
  },
  {
   "cell_type": "code",
   "execution_count": 10,
   "metadata": {},
   "outputs": [
    {
     "name": "stderr",
     "output_type": "stream",
     "text": [
      "/Users/vladcalomfirescu/anaconda3/lib/python3.11/site-packages/keras/src/engine/training.py:3103: UserWarning: You are saving your model as an HDF5 file via `model.save()`. This file format is considered legacy. We recommend using instead the native Keras format, e.g. `model.save('my_model.keras')`.\n",
      "  saving_api.save_model(\n"
     ]
    }
   ],
   "source": [
    "model.save(\"face_detection_model.h5\")"
   ]
  },
  {
   "cell_type": "code",
   "execution_count": 16,
   "metadata": {},
   "outputs": [
    {
     "name": "stdout",
     "output_type": "stream",
     "text": [
      "1/1 [==============================] - 0s 39ms/step\n",
      "Face detected: True\n"
     ]
    }
   ],
   "source": [
    "model = load_model(\"face_detection_model.h5\")\n",
    "\n",
    "def sliding_window(image, step_size, window_size):\n",
    "    for y in range(0, image.shape[0] - window_size[1], step_size):\n",
    "        for x in range(0, image.shape[1] - window_size[0], step_size):\n",
    "            yield (x, y, image[y:y + window_size[1], x:x + window_size[0]])\n",
    "\n",
    "# Load the larger image\n",
    "large_image = cv2.imread(\"/Users/vladcalomfirescu/Desktop/MyFiles/FAC/master/an 1/sem 1/PPC/BlurFacesML/data/pexels-pixabay-417173.jpg\")\n",
    "\n",
    "# Define the window size and step size\n",
    "window_size = (218, 178)\n",
    "step_size = 10\n",
    "\n",
    "# Create a flag to indicate if a face is detected\n",
    "face_detected = False\n",
    "\n",
    "# Iterate over windows and make predictions\n",
    "for (x, y, window) in sliding_window(large_image, step_size, window_size):\n",
    "    # Resize the window to match the input shape expected by the model\n",
    "    resized_window = cv2.resize(window, (218, 178))\n",
    "    \n",
    "    # Preprocess the window\n",
    "    window_gray = cv2.cvtColor(resized_window, cv2.COLOR_BGR2GRAY)\n",
    "    window_normalized = window_gray / 255.0\n",
    "    window_input = window_normalized.reshape(1, 218, 178, 1)\n",
    "\n",
    "    # Make predictions using the model\n",
    "    prediction = model.predict(window_input)\n",
    "\n",
    "    # Assuming 0.5 as the threshold for face detection\n",
    "    if prediction[0][0] > 0.9:\n",
    "        face_detected = True\n",
    "        break  # Exit the loop if a face is detected\n",
    "\n",
    "# Output True if a face is detected, False otherwise\n",
    "print(\"Face detected:\", face_detected)"
   ]
  }
 ],
 "metadata": {
  "kernelspec": {
   "display_name": "base",
   "language": "python",
   "name": "python3"
  },
  "language_info": {
   "codemirror_mode": {
    "name": "ipython",
    "version": 3
   },
   "file_extension": ".py",
   "mimetype": "text/x-python",
   "name": "python",
   "nbconvert_exporter": "python",
   "pygments_lexer": "ipython3",
   "version": "3.11.5"
  }
 },
 "nbformat": 4,
 "nbformat_minor": 2
}
