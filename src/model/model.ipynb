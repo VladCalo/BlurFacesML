{
 "cells": [
  {
   "cell_type": "code",
   "execution_count": 22,
   "metadata": {},
   "outputs": [],
   "source": [
    "import os\n",
    "import cv2\n",
    "import numpy as np\n",
    "from sklearn.model_selection import train_test_split\n",
    "import tensorflow as tf\n",
    "from tensorflow.keras import models, layers, optimizers\n",
    "from tensorflow.keras.models import load_model\n",
    "from mtcnn.mtcnn import MTCNN\n",
    "from tensorflow.keras.applications import VGG16\n",
    "from tensorflow.keras.preprocessing.image import ImageDataGenerator\n",
    "from tensorflow.keras.optimizers import Adam\n",
    "from tensorflow.keras.preprocessing.image import img_to_array, load_img\n",
    "from sklearn.preprocessing import StandardScaler\n",
    "from sklearn.pipeline import make_pipeline\n",
    "from sklearn.svm import SVC"
   ]
  },
  {
   "cell_type": "code",
   "execution_count": 23,
   "metadata": {},
   "outputs": [],
   "source": [
    "def load_data(folder_path, num_images=None):\n",
    "    images = []\n",
    "\n",
    "    for filename in os.listdir(folder_path):\n",
    "        if num_images is not None and len(images) >= num_images:\n",
    "            break\n",
    "\n",
    "        img_path = os.path.join(folder_path, filename)\n",
    "        img = cv2.imread(img_path)\n",
    "        img = cv2.cvtColor(img, cv2.COLOR_BGR2GRAY)  \n",
    "        img = cv2.resize(img, (64, 64))  \n",
    "        images.append(img)\n",
    "\n",
    "    return np.array(images)\n"
   ]
  },
  {
   "cell_type": "code",
   "execution_count": 24,
   "metadata": {},
   "outputs": [],
   "source": [
    "def build_and_train_autoencoder(X_train, X_test):\n",
    "    model = models.Sequential([\n",
    "        layers.Input(shape=(64, 64, 1)),\n",
    "        layers.Conv2D(32, (3, 3), activation='relu', padding='same'),\n",
    "        layers.MaxPooling2D((2, 2), padding='same'),\n",
    "        layers.Conv2D(64, (3, 3), activation='relu', padding='same'),\n",
    "        layers.MaxPooling2D((2, 2), padding='same'),\n",
    "        layers.Conv2D(128, (3, 3), activation='relu', padding='same'),\n",
    "        layers.MaxPooling2D((2, 2), padding='same'),\n",
    "        layers.Conv2D(256, (3, 3), activation='relu', padding='same'),\n",
    "        layers.MaxPooling2D((2, 2), padding='same'),\n",
    "        layers.Conv2D(256, (3, 3), activation='relu', padding='same'),\n",
    "        layers.UpSampling2D((2, 2)),\n",
    "        layers.Conv2D(128, (3, 3), activation='relu', padding='same'),\n",
    "        layers.UpSampling2D((2, 2)),\n",
    "        layers.Conv2D(64, (3, 3), activation='relu', padding='same'),\n",
    "        layers.UpSampling2D((2, 2)),\n",
    "        layers.Conv2D(32, (3, 3), activation='relu', padding='same'),\n",
    "        layers.UpSampling2D((2, 2)),\n",
    "        layers.Conv2D(1, (3, 3), activation='sigmoid', padding='same')\n",
    "    ])\n",
    "\n",
    "    model.compile(optimizer='adam', loss='binary_crossentropy')\n",
    "\n",
    "    model.fit(X_train, X_train, epochs=10, batch_size=32, validation_data=(X_test, X_test))\n",
    "    \n",
    "    return model\n"
   ]
  },
  {
   "cell_type": "code",
   "execution_count": 25,
   "metadata": {},
   "outputs": [
    {
     "name": "stdout",
     "output_type": "stream",
     "text": [
      "10000\n"
     ]
    }
   ],
   "source": [
    "folder_path = \"/Users/vladcalomfirescu/Desktop/MyFiles/FAC/master/an 1/sem 1/PPC/BlurFacesML/data/img_align_celeba\"\n",
    "X = load_data(folder_path, num_images=10000)\n",
    "print(len(X))"
   ]
  },
  {
   "cell_type": "code",
   "execution_count": 26,
   "metadata": {},
   "outputs": [],
   "source": [
    "X_train, X_test = train_test_split(X, test_size=0.2, random_state=42)\n",
    "\n",
    "X_train = X_train / 255.0\n",
    "X_test = X_test / 255.0\n",
    "\n",
    "X_train = X_train.reshape(-1, 64, 64, 1)\n",
    "X_test = X_test.reshape(-1, 64, 64, 1)"
   ]
  },
  {
   "cell_type": "code",
   "execution_count": 27,
   "metadata": {},
   "outputs": [
    {
     "name": "stdout",
     "output_type": "stream",
     "text": [
      "Epoch 1/10\n",
      "250/250 [==============================] - 36s 144ms/step - loss: 0.5694 - val_loss: 0.5290\n",
      "Epoch 2/10\n",
      "250/250 [==============================] - 34s 136ms/step - loss: 0.5276 - val_loss: 0.5204\n",
      "Epoch 3/10\n",
      "250/250 [==============================] - 35s 141ms/step - loss: 0.5220 - val_loss: 0.5183\n",
      "Epoch 4/10\n",
      "250/250 [==============================] - 34s 136ms/step - loss: 0.5201 - val_loss: 0.5149\n",
      "Epoch 5/10\n",
      "250/250 [==============================] - 35s 139ms/step - loss: 0.5173 - val_loss: 0.5139\n",
      "Epoch 6/10\n",
      "250/250 [==============================] - 35s 139ms/step - loss: 0.5162 - val_loss: 0.5122\n",
      "Epoch 7/10\n",
      "250/250 [==============================] - 34s 136ms/step - loss: 0.5152 - val_loss: 0.5127\n",
      "Epoch 8/10\n",
      "250/250 [==============================] - 35s 141ms/step - loss: 0.5139 - val_loss: 0.5107\n",
      "Epoch 9/10\n",
      "250/250 [==============================] - 34s 136ms/step - loss: 0.5135 - val_loss: 0.5097\n",
      "Epoch 10/10\n",
      "250/250 [==============================] - 35s 140ms/step - loss: 0.5130 - val_loss: 0.5094\n"
     ]
    },
    {
     "name": "stderr",
     "output_type": "stream",
     "text": [
      "/Users/vladcalomfirescu/anaconda3/lib/python3.11/site-packages/keras/src/engine/training.py:3103: UserWarning: You are saving your model as an HDF5 file via `model.save()`. This file format is considered legacy. We recommend using instead the native Keras format, e.g. `model.save('my_model.keras')`.\n",
      "  saving_api.save_model(\n"
     ]
    }
   ],
   "source": [
    "autoencoder_model = build_and_train_autoencoder(X_train, X_test)\n",
    "autoencoder_model.save(\"autoencoder_model.h5\")"
   ]
  },
  {
   "cell_type": "code",
   "execution_count": null,
   "metadata": {},
   "outputs": [],
   "source": [
    "# encoded_X_train = autoencoder_model.predict(X_train)\n",
    "# encoded_X_test = autoencoder_model.predict(X_test)\n",
    "\n",
    "# reconstruction_errors_train = np.mean(np.abs(X_train - encoded_X_train), axis=(1, 2, 3))\n",
    "# reconstruction_errors_test = np.mean(np.abs(X_test - encoded_X_test), axis=(1, 2, 3))\n",
    "\n",
    "# threshold = 0.1  \n",
    "\n",
    "# predictions_train = (reconstruction_errors_train > threshold).astype(int)\n",
    "\n",
    "# predictions_test = (reconstruction_errors_test > threshold).astype(int)\n",
    "\n",
    "\n",
    "# print(\"Training results:\")\n",
    "# print(\"Faces detected:\", np.sum(predictions_train))\n",
    "# print(\"No faces detected:\", len(predictions_train) - np.sum(predictions_train))\n",
    "\n",
    "# print(\"\\nTesting results:\")\n",
    "# print(\"Faces detected:\", np.sum(predictions_test))\n",
    "# print(\"No faces detected:\", len(predictions_test) - np.sum(predictions_test))\n"
   ]
  },
  {
   "cell_type": "code",
   "execution_count": 42,
   "metadata": {},
   "outputs": [
    {
     "name": "stdout",
     "output_type": "stream",
     "text": [
      "1/1 [==============================] - 0s 47ms/step\n",
      "Face detected!\n"
     ]
    }
   ],
   "source": [
    "def classify_large_image(autoencoder_model, larger_image_path, threshold=0.1):\n",
    "    larger_image = cv2.imread(larger_image_path)\n",
    "    larger_image_gray = cv2.cvtColor(larger_image, cv2.COLOR_BGR2GRAY)\n",
    "    larger_image_resized = cv2.resize(larger_image_gray, (64, 64)) / 255.0\n",
    "    larger_image_input = np.expand_dims(np.expand_dims(larger_image_resized, axis=0), axis=-1)\n",
    "    \n",
    "    prediction = autoencoder_model.predict(larger_image_input)\n",
    "    \n",
    "    if np.mean(np.abs(larger_image_input - prediction)) > threshold:\n",
    "        print(\"Face detected!\")\n",
    "    else:\n",
    "        print(\"No face detected.\")\n",
    "\n",
    "    # encoded_larger_image = autoencoder_model.predict(larger_image_input)\n",
    "\n",
    "    # reconstruction_error = np.mean(np.abs(larger_image_input - encoded_larger_image))\n",
    "\n",
    "    # if reconstruction_error > threshold:\n",
    "    #     print(\"Face detected!\")\n",
    "    # else:\n",
    "    #     print(\"No face detected.\")\n",
    "\n",
    "autoencoder_model = load_model(\"autoencoder_model.h5\")\n",
    "larger_image_path = \"/Users/vladcalomfirescu/Desktop/MyFiles/FAC/master/an 1/sem 1/PPC/BlurFacesML/data/test_photos/test_img3.jpg\"\n",
    "classify_large_image(autoencoder_model, larger_image_path, threshold=0.08)"
   ]
  },
  {
   "cell_type": "code",
   "execution_count": 20,
   "metadata": {},
   "outputs": [],
   "source": [
    "def detect_and_blur_faces(autoencoder_model, larger_image_path, threshold=0.1):\n",
    "    larger_image = cv2.imread(larger_image_path)\n",
    "    larger_image_gray = cv2.cvtColor(larger_image, cv2.COLOR_BGR2GRAY)\n",
    "    larger_image_resized = cv2.resize(larger_image_gray, (64, 64)) / 255.0\n",
    "    larger_image_input = np.expand_dims(np.expand_dims(larger_image_resized, axis=0), axis=-1)\n",
    "\n",
    "    encoded_larger_image = autoencoder_model.predict(larger_image_input)\n",
    "\n",
    "    reconstruction_error = np.mean(np.abs(larger_image_input - encoded_larger_image))\n",
    "\n",
    "    if reconstruction_error > threshold:\n",
    "        print(\"Face detected! Blurring faces...\")\n",
    "        face_cascade = cv2.CascadeClassifier(cv2.data.haarcascades + 'haarcascade_frontalface_default.xml')\n",
    "        faces = face_cascade.detectMultiScale(larger_image_gray, scaleFactor=1.3, minNeighbors=5)\n",
    "\n",
    "        for (x, y, w, h) in faces:\n",
    "            face_roi = larger_image[y:y + h, x:x + w]\n",
    "            # Resize face to the size expected by the autoencoder\n",
    "            face_resized = cv2.resize(face_roi, (64, 64))\n",
    "            # Preprocess and predict using the autoencoder\n",
    "            face_input = np.expand_dims(np.expand_dims(face_resized, axis=-1), axis=0) / 255.0\n",
    "            encoded_face = autoencoder_model.predict(face_input)\n",
    "            # Resize the encoded face back to the original size\n",
    "            encoded_face_resized = cv2.resize(encoded_face[0], (w, h))\n",
    "            # Blend the reconstructed face back into the larger image\n",
    "            larger_image[y:y + h, x:x + w] = (larger_image[y:y + h, x:x + w] + encoded_face_resized * 255.0) / 2\n",
    "\n",
    "        # Display the image with blurred faces\n",
    "        cv2.imshow('Image with Blurred Faces', larger_image)\n",
    "        cv2.waitKey(0)\n",
    "        cv2.destroyAllWindows()\n",
    "    else:\n",
    "        print(\"No face detected.\")"
   ]
  },
  {
   "cell_type": "code",
   "execution_count": 21,
   "metadata": {},
   "outputs": [
    {
     "name": "stdout",
     "output_type": "stream",
     "text": [
      "1/1 [==============================] - 0s 13ms/step\n",
      "Face detected! Blurring faces...\n"
     ]
    },
    {
     "name": "stderr",
     "output_type": "stream",
     "text": [
      "2024-01-05 19:16:21.180319: W tensorflow/core/framework/op_kernel.cc:1839] OP_REQUIRES failed at conv_ops_fused_impl.h:761 : INVALID_ARGUMENT: convolution input must be 4-dimensional: [1,64,64,3,1]\n"
     ]
    },
    {
     "ename": "InvalidArgumentError",
     "evalue": "Graph execution error:\n\nDetected at node sequential_1/conv2d_9/Relu defined at (most recent call last):\n  File \"<frozen runpy>\", line 198, in _run_module_as_main\n\n  File \"<frozen runpy>\", line 88, in _run_code\n\n  File \"/Users/vladcalomfirescu/anaconda3/lib/python3.11/site-packages/ipykernel_launcher.py\", line 17, in <module>\n\n  File \"/Users/vladcalomfirescu/anaconda3/lib/python3.11/site-packages/traitlets/config/application.py\", line 992, in launch_instance\n\n  File \"/Users/vladcalomfirescu/anaconda3/lib/python3.11/site-packages/ipykernel/kernelapp.py\", line 736, in start\n\n  File \"/Users/vladcalomfirescu/anaconda3/lib/python3.11/site-packages/tornado/platform/asyncio.py\", line 195, in start\n\n  File \"/Users/vladcalomfirescu/anaconda3/lib/python3.11/asyncio/base_events.py\", line 607, in run_forever\n\n  File \"/Users/vladcalomfirescu/anaconda3/lib/python3.11/asyncio/base_events.py\", line 1922, in _run_once\n\n  File \"/Users/vladcalomfirescu/anaconda3/lib/python3.11/asyncio/events.py\", line 80, in _run\n\n  File \"/Users/vladcalomfirescu/anaconda3/lib/python3.11/site-packages/ipykernel/kernelbase.py\", line 516, in dispatch_queue\n\n  File \"/Users/vladcalomfirescu/anaconda3/lib/python3.11/site-packages/ipykernel/kernelbase.py\", line 505, in process_one\n\n  File \"/Users/vladcalomfirescu/anaconda3/lib/python3.11/site-packages/ipykernel/kernelbase.py\", line 412, in dispatch_shell\n\n  File \"/Users/vladcalomfirescu/anaconda3/lib/python3.11/site-packages/ipykernel/kernelbase.py\", line 740, in execute_request\n\n  File \"/Users/vladcalomfirescu/anaconda3/lib/python3.11/site-packages/ipykernel/ipkernel.py\", line 422, in do_execute\n\n  File \"/Users/vladcalomfirescu/anaconda3/lib/python3.11/site-packages/ipykernel/zmqshell.py\", line 546, in run_cell\n\n  File \"/Users/vladcalomfirescu/anaconda3/lib/python3.11/site-packages/IPython/core/interactiveshell.py\", line 3024, in run_cell\n\n  File \"/Users/vladcalomfirescu/anaconda3/lib/python3.11/site-packages/IPython/core/interactiveshell.py\", line 3079, in _run_cell\n\n  File \"/Users/vladcalomfirescu/anaconda3/lib/python3.11/site-packages/IPython/core/async_helpers.py\", line 129, in _pseudo_sync_runner\n\n  File \"/Users/vladcalomfirescu/anaconda3/lib/python3.11/site-packages/IPython/core/interactiveshell.py\", line 3284, in run_cell_async\n\n  File \"/Users/vladcalomfirescu/anaconda3/lib/python3.11/site-packages/IPython/core/interactiveshell.py\", line 3466, in run_ast_nodes\n\n  File \"/Users/vladcalomfirescu/anaconda3/lib/python3.11/site-packages/IPython/core/interactiveshell.py\", line 3526, in run_code\n\n  File \"/var/folders/vh/ncgvgcts15g8hd2pf6q8f7_h0000gn/T/ipykernel_17395/3013053064.py\", line 2, in <module>\n\n  File \"/var/folders/vh/ncgvgcts15g8hd2pf6q8f7_h0000gn/T/ipykernel_17395/336732900.py\", line 22, in detect_and_blur_faces\n\n  File \"/Users/vladcalomfirescu/anaconda3/lib/python3.11/site-packages/keras/src/utils/traceback_utils.py\", line 65, in error_handler\n\n  File \"/Users/vladcalomfirescu/anaconda3/lib/python3.11/site-packages/keras/src/engine/training.py\", line 2655, in predict\n\n  File \"/Users/vladcalomfirescu/anaconda3/lib/python3.11/site-packages/keras/src/engine/training.py\", line 2440, in predict_function\n\n  File \"/Users/vladcalomfirescu/anaconda3/lib/python3.11/site-packages/keras/src/engine/training.py\", line 2425, in step_function\n\n  File \"/Users/vladcalomfirescu/anaconda3/lib/python3.11/site-packages/keras/src/engine/training.py\", line 2413, in run_step\n\n  File \"/Users/vladcalomfirescu/anaconda3/lib/python3.11/site-packages/keras/src/engine/training.py\", line 2381, in predict_step\n\n  File \"/Users/vladcalomfirescu/anaconda3/lib/python3.11/site-packages/keras/src/utils/traceback_utils.py\", line 65, in error_handler\n\n  File \"/Users/vladcalomfirescu/anaconda3/lib/python3.11/site-packages/keras/src/engine/training.py\", line 590, in __call__\n\n  File \"/Users/vladcalomfirescu/anaconda3/lib/python3.11/site-packages/keras/src/utils/traceback_utils.py\", line 65, in error_handler\n\n  File \"/Users/vladcalomfirescu/anaconda3/lib/python3.11/site-packages/keras/src/engine/base_layer.py\", line 1149, in __call__\n\n  File \"/Users/vladcalomfirescu/anaconda3/lib/python3.11/site-packages/keras/src/utils/traceback_utils.py\", line 96, in error_handler\n\n  File \"/Users/vladcalomfirescu/anaconda3/lib/python3.11/site-packages/keras/src/engine/sequential.py\", line 398, in call\n\n  File \"/Users/vladcalomfirescu/anaconda3/lib/python3.11/site-packages/keras/src/engine/functional.py\", line 515, in call\n\n  File \"/Users/vladcalomfirescu/anaconda3/lib/python3.11/site-packages/keras/src/engine/functional.py\", line 672, in _run_internal_graph\n\n  File \"/Users/vladcalomfirescu/anaconda3/lib/python3.11/site-packages/keras/src/utils/traceback_utils.py\", line 65, in error_handler\n\n  File \"/Users/vladcalomfirescu/anaconda3/lib/python3.11/site-packages/keras/src/engine/base_layer.py\", line 1149, in __call__\n\n  File \"/Users/vladcalomfirescu/anaconda3/lib/python3.11/site-packages/keras/src/utils/traceback_utils.py\", line 96, in error_handler\n\n  File \"/Users/vladcalomfirescu/anaconda3/lib/python3.11/site-packages/keras/src/layers/convolutional/base_conv.py\", line 321, in call\n\n  File \"/Users/vladcalomfirescu/anaconda3/lib/python3.11/site-packages/keras/src/activations.py\", line 306, in relu\n\n  File \"/Users/vladcalomfirescu/anaconda3/lib/python3.11/site-packages/keras/src/backend.py\", line 5395, in relu\n\nconvolution input must be 4-dimensional: [1,64,64,3,1]\n\t [[{{node sequential_1/conv2d_9/Relu}}]] [Op:__inference_predict_function_31479]",
     "output_type": "error",
     "traceback": [
      "\u001b[0;31m---------------------------------------------------------------------------\u001b[0m",
      "\u001b[0;31mInvalidArgumentError\u001b[0m                      Traceback (most recent call last)",
      "Cell \u001b[0;32mIn[21], line 2\u001b[0m\n\u001b[1;32m      1\u001b[0m larger_image_path \u001b[38;5;241m=\u001b[39m \u001b[38;5;124m\"\u001b[39m\u001b[38;5;124m/Users/vladcalomfirescu/Desktop/MyFiles/FAC/master/an 1/sem 1/PPC/BlurFacesML/data/test_photos/test_img.jpg\u001b[39m\u001b[38;5;124m\"\u001b[39m\n\u001b[0;32m----> 2\u001b[0m detect_and_blur_faces(autoencoder_model, larger_image_path, threshold\u001b[38;5;241m=\u001b[39m\u001b[38;5;241m0.1\u001b[39m)\n",
      "Cell \u001b[0;32mIn[20], line 22\u001b[0m, in \u001b[0;36mdetect_and_blur_faces\u001b[0;34m(autoencoder_model, larger_image_path, threshold)\u001b[0m\n\u001b[1;32m     20\u001b[0m \u001b[38;5;66;03m# Preprocess and predict using the autoencoder\u001b[39;00m\n\u001b[1;32m     21\u001b[0m face_input \u001b[38;5;241m=\u001b[39m np\u001b[38;5;241m.\u001b[39mexpand_dims(np\u001b[38;5;241m.\u001b[39mexpand_dims(face_resized, axis\u001b[38;5;241m=\u001b[39m\u001b[38;5;241m-\u001b[39m\u001b[38;5;241m1\u001b[39m), axis\u001b[38;5;241m=\u001b[39m\u001b[38;5;241m0\u001b[39m) \u001b[38;5;241m/\u001b[39m \u001b[38;5;241m255.0\u001b[39m\n\u001b[0;32m---> 22\u001b[0m encoded_face \u001b[38;5;241m=\u001b[39m autoencoder_model\u001b[38;5;241m.\u001b[39mpredict(face_input)\n\u001b[1;32m     23\u001b[0m \u001b[38;5;66;03m# Resize the encoded face back to the original size\u001b[39;00m\n\u001b[1;32m     24\u001b[0m encoded_face_resized \u001b[38;5;241m=\u001b[39m cv2\u001b[38;5;241m.\u001b[39mresize(encoded_face[\u001b[38;5;241m0\u001b[39m], (w, h))\n",
      "File \u001b[0;32m~/anaconda3/lib/python3.11/site-packages/keras/src/utils/traceback_utils.py:70\u001b[0m, in \u001b[0;36mfilter_traceback.<locals>.error_handler\u001b[0;34m(*args, **kwargs)\u001b[0m\n\u001b[1;32m     67\u001b[0m     filtered_tb \u001b[38;5;241m=\u001b[39m _process_traceback_frames(e\u001b[38;5;241m.\u001b[39m__traceback__)\n\u001b[1;32m     68\u001b[0m     \u001b[38;5;66;03m# To get the full stack trace, call:\u001b[39;00m\n\u001b[1;32m     69\u001b[0m     \u001b[38;5;66;03m# `tf.debugging.disable_traceback_filtering()`\u001b[39;00m\n\u001b[0;32m---> 70\u001b[0m     \u001b[38;5;28;01mraise\u001b[39;00m e\u001b[38;5;241m.\u001b[39mwith_traceback(filtered_tb) \u001b[38;5;28;01mfrom\u001b[39;00m \u001b[38;5;28;01mNone\u001b[39;00m\n\u001b[1;32m     71\u001b[0m \u001b[38;5;28;01mfinally\u001b[39;00m:\n\u001b[1;32m     72\u001b[0m     \u001b[38;5;28;01mdel\u001b[39;00m filtered_tb\n",
      "File \u001b[0;32m~/anaconda3/lib/python3.11/site-packages/tensorflow/python/eager/execute.py:53\u001b[0m, in \u001b[0;36mquick_execute\u001b[0;34m(op_name, num_outputs, inputs, attrs, ctx, name)\u001b[0m\n\u001b[1;32m     51\u001b[0m \u001b[38;5;28;01mtry\u001b[39;00m:\n\u001b[1;32m     52\u001b[0m   ctx\u001b[38;5;241m.\u001b[39mensure_initialized()\n\u001b[0;32m---> 53\u001b[0m   tensors \u001b[38;5;241m=\u001b[39m pywrap_tfe\u001b[38;5;241m.\u001b[39mTFE_Py_Execute(ctx\u001b[38;5;241m.\u001b[39m_handle, device_name, op_name,\n\u001b[1;32m     54\u001b[0m                                       inputs, attrs, num_outputs)\n\u001b[1;32m     55\u001b[0m \u001b[38;5;28;01mexcept\u001b[39;00m core\u001b[38;5;241m.\u001b[39m_NotOkStatusException \u001b[38;5;28;01mas\u001b[39;00m e:\n\u001b[1;32m     56\u001b[0m   \u001b[38;5;28;01mif\u001b[39;00m name \u001b[38;5;129;01mis\u001b[39;00m \u001b[38;5;129;01mnot\u001b[39;00m \u001b[38;5;28;01mNone\u001b[39;00m:\n",
      "\u001b[0;31mInvalidArgumentError\u001b[0m: Graph execution error:\n\nDetected at node sequential_1/conv2d_9/Relu defined at (most recent call last):\n  File \"<frozen runpy>\", line 198, in _run_module_as_main\n\n  File \"<frozen runpy>\", line 88, in _run_code\n\n  File \"/Users/vladcalomfirescu/anaconda3/lib/python3.11/site-packages/ipykernel_launcher.py\", line 17, in <module>\n\n  File \"/Users/vladcalomfirescu/anaconda3/lib/python3.11/site-packages/traitlets/config/application.py\", line 992, in launch_instance\n\n  File \"/Users/vladcalomfirescu/anaconda3/lib/python3.11/site-packages/ipykernel/kernelapp.py\", line 736, in start\n\n  File \"/Users/vladcalomfirescu/anaconda3/lib/python3.11/site-packages/tornado/platform/asyncio.py\", line 195, in start\n\n  File \"/Users/vladcalomfirescu/anaconda3/lib/python3.11/asyncio/base_events.py\", line 607, in run_forever\n\n  File \"/Users/vladcalomfirescu/anaconda3/lib/python3.11/asyncio/base_events.py\", line 1922, in _run_once\n\n  File \"/Users/vladcalomfirescu/anaconda3/lib/python3.11/asyncio/events.py\", line 80, in _run\n\n  File \"/Users/vladcalomfirescu/anaconda3/lib/python3.11/site-packages/ipykernel/kernelbase.py\", line 516, in dispatch_queue\n\n  File \"/Users/vladcalomfirescu/anaconda3/lib/python3.11/site-packages/ipykernel/kernelbase.py\", line 505, in process_one\n\n  File \"/Users/vladcalomfirescu/anaconda3/lib/python3.11/site-packages/ipykernel/kernelbase.py\", line 412, in dispatch_shell\n\n  File \"/Users/vladcalomfirescu/anaconda3/lib/python3.11/site-packages/ipykernel/kernelbase.py\", line 740, in execute_request\n\n  File \"/Users/vladcalomfirescu/anaconda3/lib/python3.11/site-packages/ipykernel/ipkernel.py\", line 422, in do_execute\n\n  File \"/Users/vladcalomfirescu/anaconda3/lib/python3.11/site-packages/ipykernel/zmqshell.py\", line 546, in run_cell\n\n  File \"/Users/vladcalomfirescu/anaconda3/lib/python3.11/site-packages/IPython/core/interactiveshell.py\", line 3024, in run_cell\n\n  File \"/Users/vladcalomfirescu/anaconda3/lib/python3.11/site-packages/IPython/core/interactiveshell.py\", line 3079, in _run_cell\n\n  File \"/Users/vladcalomfirescu/anaconda3/lib/python3.11/site-packages/IPython/core/async_helpers.py\", line 129, in _pseudo_sync_runner\n\n  File \"/Users/vladcalomfirescu/anaconda3/lib/python3.11/site-packages/IPython/core/interactiveshell.py\", line 3284, in run_cell_async\n\n  File \"/Users/vladcalomfirescu/anaconda3/lib/python3.11/site-packages/IPython/core/interactiveshell.py\", line 3466, in run_ast_nodes\n\n  File \"/Users/vladcalomfirescu/anaconda3/lib/python3.11/site-packages/IPython/core/interactiveshell.py\", line 3526, in run_code\n\n  File \"/var/folders/vh/ncgvgcts15g8hd2pf6q8f7_h0000gn/T/ipykernel_17395/3013053064.py\", line 2, in <module>\n\n  File \"/var/folders/vh/ncgvgcts15g8hd2pf6q8f7_h0000gn/T/ipykernel_17395/336732900.py\", line 22, in detect_and_blur_faces\n\n  File \"/Users/vladcalomfirescu/anaconda3/lib/python3.11/site-packages/keras/src/utils/traceback_utils.py\", line 65, in error_handler\n\n  File \"/Users/vladcalomfirescu/anaconda3/lib/python3.11/site-packages/keras/src/engine/training.py\", line 2655, in predict\n\n  File \"/Users/vladcalomfirescu/anaconda3/lib/python3.11/site-packages/keras/src/engine/training.py\", line 2440, in predict_function\n\n  File \"/Users/vladcalomfirescu/anaconda3/lib/python3.11/site-packages/keras/src/engine/training.py\", line 2425, in step_function\n\n  File \"/Users/vladcalomfirescu/anaconda3/lib/python3.11/site-packages/keras/src/engine/training.py\", line 2413, in run_step\n\n  File \"/Users/vladcalomfirescu/anaconda3/lib/python3.11/site-packages/keras/src/engine/training.py\", line 2381, in predict_step\n\n  File \"/Users/vladcalomfirescu/anaconda3/lib/python3.11/site-packages/keras/src/utils/traceback_utils.py\", line 65, in error_handler\n\n  File \"/Users/vladcalomfirescu/anaconda3/lib/python3.11/site-packages/keras/src/engine/training.py\", line 590, in __call__\n\n  File \"/Users/vladcalomfirescu/anaconda3/lib/python3.11/site-packages/keras/src/utils/traceback_utils.py\", line 65, in error_handler\n\n  File \"/Users/vladcalomfirescu/anaconda3/lib/python3.11/site-packages/keras/src/engine/base_layer.py\", line 1149, in __call__\n\n  File \"/Users/vladcalomfirescu/anaconda3/lib/python3.11/site-packages/keras/src/utils/traceback_utils.py\", line 96, in error_handler\n\n  File \"/Users/vladcalomfirescu/anaconda3/lib/python3.11/site-packages/keras/src/engine/sequential.py\", line 398, in call\n\n  File \"/Users/vladcalomfirescu/anaconda3/lib/python3.11/site-packages/keras/src/engine/functional.py\", line 515, in call\n\n  File \"/Users/vladcalomfirescu/anaconda3/lib/python3.11/site-packages/keras/src/engine/functional.py\", line 672, in _run_internal_graph\n\n  File \"/Users/vladcalomfirescu/anaconda3/lib/python3.11/site-packages/keras/src/utils/traceback_utils.py\", line 65, in error_handler\n\n  File \"/Users/vladcalomfirescu/anaconda3/lib/python3.11/site-packages/keras/src/engine/base_layer.py\", line 1149, in __call__\n\n  File \"/Users/vladcalomfirescu/anaconda3/lib/python3.11/site-packages/keras/src/utils/traceback_utils.py\", line 96, in error_handler\n\n  File \"/Users/vladcalomfirescu/anaconda3/lib/python3.11/site-packages/keras/src/layers/convolutional/base_conv.py\", line 321, in call\n\n  File \"/Users/vladcalomfirescu/anaconda3/lib/python3.11/site-packages/keras/src/activations.py\", line 306, in relu\n\n  File \"/Users/vladcalomfirescu/anaconda3/lib/python3.11/site-packages/keras/src/backend.py\", line 5395, in relu\n\nconvolution input must be 4-dimensional: [1,64,64,3,1]\n\t [[{{node sequential_1/conv2d_9/Relu}}]] [Op:__inference_predict_function_31479]"
     ]
    }
   ],
   "source": [
    "larger_image_path = \"/Users/vladcalomfirescu/Desktop/MyFiles/FAC/master/an 1/sem 1/PPC/BlurFacesML/data/test_photos/test_img.jpg\"\n",
    "detect_and_blur_faces(autoencoder_model, larger_image_path, threshold=0.1)"
   ]
  }
 ],
 "metadata": {
  "kernelspec": {
   "display_name": "base",
   "language": "python",
   "name": "python3"
  },
  "language_info": {
   "codemirror_mode": {
    "name": "ipython",
    "version": 3
   },
   "file_extension": ".py",
   "mimetype": "text/x-python",
   "name": "python",
   "nbconvert_exporter": "python",
   "pygments_lexer": "ipython3",
   "version": "3.11.5"
  }
 },
 "nbformat": 4,
 "nbformat_minor": 2
}
