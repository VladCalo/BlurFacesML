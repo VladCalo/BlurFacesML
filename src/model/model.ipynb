{
 "cells": [
  {
   "cell_type": "code",
   "execution_count": 22,
   "metadata": {},
   "outputs": [],
   "source": [
    "import os\n",
    "import cv2\n",
    "import numpy as np\n",
    "from sklearn.model_selection import train_test_split\n",
    "import tensorflow as tf\n",
    "from tensorflow.keras import models, layers, optimizers\n",
    "from tensorflow.keras.models import load_model\n",
    "from mtcnn.mtcnn import MTCNN\n",
    "from tensorflow.keras.applications import VGG16\n",
    "from tensorflow.keras.preprocessing.image import ImageDataGenerator\n",
    "from tensorflow.keras.optimizers import Adam\n",
    "from tensorflow.keras.preprocessing.image import img_to_array, load_img\n",
    "from sklearn.preprocessing import StandardScaler\n",
    "from sklearn.pipeline import make_pipeline\n",
    "from sklearn.svm import SVC"
   ]
  },
  {
   "cell_type": "code",
   "execution_count": 57,
   "metadata": {},
   "outputs": [],
   "source": [
    "def load_data(folder_path, num_images=None):\n",
    "    images = []\n",
    "\n",
    "    for filename in os.listdir(folder_path):\n",
    "        if num_images is not None and len(images) >= num_images:\n",
    "            break\n",
    "\n",
    "        img_path = os.path.join(folder_path, filename)\n",
    "        img = cv2.imread(img_path)\n",
    "        img = cv2.resize(img, (64, 64))  \n",
    "        images.append(img)\n",
    "\n",
    "    return np.array(images)"
   ]
  },
  {
   "cell_type": "code",
   "execution_count": 58,
   "metadata": {},
   "outputs": [],
   "source": [
    "def build_and_train_autoencoder(X_train, X_test):\n",
    "    model = models.Sequential([\n",
    "        layers.Input(shape=(64, 64, 3)),\n",
    "        layers.Conv2D(32, (3, 3), activation='relu', padding='same'),\n",
    "        layers.MaxPooling2D((2, 2), padding='same'),\n",
    "        layers.Conv2D(64, (3, 3), activation='relu', padding='same'),\n",
    "        layers.MaxPooling2D((2, 2), padding='same'),\n",
    "        layers.Conv2D(128, (3, 3), activation='relu', padding='same'),\n",
    "        layers.MaxPooling2D((2, 2), padding='same'),\n",
    "        layers.Conv2D(256, (3, 3), activation='relu', padding='same'),\n",
    "        layers.MaxPooling2D((2, 2), padding='same'),\n",
    "        layers.Conv2D(256, (3, 3), activation='relu', padding='same'),\n",
    "        layers.UpSampling2D((2, 2)),\n",
    "        layers.Conv2D(128, (3, 3), activation='relu', padding='same'),\n",
    "        layers.UpSampling2D((2, 2)),\n",
    "        layers.Conv2D(64, (3, 3), activation='relu', padding='same'),\n",
    "        layers.UpSampling2D((2, 2)),\n",
    "        layers.Conv2D(32, (3, 3), activation='relu', padding='same'),\n",
    "        layers.UpSampling2D((2, 2)),\n",
    "        layers.Conv2D(3, (3, 3), activation='sigmoid', padding='same')  # Output with 3 channels for color images\n",
    "    ])\n",
    "\n",
    "    model.compile(optimizer='adam', loss='mse')  # Using mean squared error for color images\n",
    "\n",
    "    model.fit(X_train, X_train, epochs=10, batch_size=32, validation_data=(X_test, X_test))\n",
    "    \n",
    "    return model"
   ]
  },
  {
   "cell_type": "code",
   "execution_count": 59,
   "metadata": {},
   "outputs": [
    {
     "name": "stdout",
     "output_type": "stream",
     "text": [
      "10000\n"
     ]
    }
   ],
   "source": [
    "folder_path = \"/Users/vladcalomfirescu/Desktop/MyFiles/FAC/master/an 1/sem 1/PPC/BlurFacesML/data/img_align_celeba\"\n",
    "X = load_data(folder_path, num_images=10000)\n",
    "print(len(X))"
   ]
  },
  {
   "cell_type": "code",
   "execution_count": 60,
   "metadata": {},
   "outputs": [],
   "source": [
    "X_train, X_test = train_test_split(X, test_size=0.2, random_state=42)\n",
    "\n",
    "X_train = X_train / 255.0\n",
    "X_test = X_test / 255.0\n",
    "\n",
    "X_train = X_train.reshape(-1, 64, 64, 3)  \n",
    "X_test = X_test.reshape(-1, 64, 64, 3)"
   ]
  },
  {
   "cell_type": "code",
   "execution_count": 61,
   "metadata": {},
   "outputs": [
    {
     "name": "stdout",
     "output_type": "stream",
     "text": [
      "Epoch 1/10\n",
      "250/250 [==============================] - 40s 157ms/step - loss: 0.0325 - val_loss: 0.0167\n",
      "Epoch 2/10\n",
      "250/250 [==============================] - 36s 144ms/step - loss: 0.0148 - val_loss: 0.0131\n",
      "Epoch 3/10\n",
      "250/250 [==============================] - 36s 144ms/step - loss: 0.0127 - val_loss: 0.0117\n",
      "Epoch 4/10\n",
      "250/250 [==============================] - 36s 144ms/step - loss: 0.0114 - val_loss: 0.0113\n",
      "Epoch 5/10\n",
      "250/250 [==============================] - 34s 137ms/step - loss: 0.0106 - val_loss: 0.0116\n",
      "Epoch 6/10\n",
      "250/250 [==============================] - 36s 142ms/step - loss: 0.0100 - val_loss: 0.0108\n",
      "Epoch 7/10\n",
      "250/250 [==============================] - 34s 137ms/step - loss: 0.0095 - val_loss: 0.0092\n",
      "Epoch 8/10\n",
      "250/250 [==============================] - 35s 142ms/step - loss: 0.0090 - val_loss: 0.0089\n",
      "Epoch 9/10\n",
      "250/250 [==============================] - 35s 138ms/step - loss: 0.0086 - val_loss: 0.0085\n",
      "Epoch 10/10\n",
      "250/250 [==============================] - 36s 144ms/step - loss: 0.0083 - val_loss: 0.0082\n"
     ]
    },
    {
     "name": "stderr",
     "output_type": "stream",
     "text": [
      "/Users/vladcalomfirescu/anaconda3/lib/python3.11/site-packages/keras/src/engine/training.py:3103: UserWarning: You are saving your model as an HDF5 file via `model.save()`. This file format is considered legacy. We recommend using instead the native Keras format, e.g. `model.save('my_model.keras')`.\n",
      "  saving_api.save_model(\n"
     ]
    }
   ],
   "source": [
    "autoencoder_model = build_and_train_autoencoder(X_train, X_test)\n",
    "autoencoder_model.save(\"autoencoder_model.h5\")"
   ]
  },
  {
   "cell_type": "code",
   "execution_count": 75,
   "metadata": {},
   "outputs": [
    {
     "name": "stdout",
     "output_type": "stream",
     "text": [
      "1/1 [==============================] - 0s 50ms/step\n",
      "No face detected.\n"
     ]
    }
   ],
   "source": [
    "def classify_large_image(autoencoder_model, larger_image_path, threshold=0.1):\n",
    "    larger_image = cv2.imread(larger_image_path)\n",
    "    larger_image_resized = cv2.resize(larger_image, (64, 64)) / 255.0\n",
    "    larger_image_input = np.expand_dims(larger_image_resized, axis=0)\n",
    "\n",
    "    prediction = autoencoder_model.predict(larger_image_input)\n",
    "\n",
    "    # Assuming autoencoder_model output has shape (batch_size, 64, 64, 3)\n",
    "    reconstruction_error = np.mean(np.abs(larger_image_input - prediction))\n",
    "\n",
    "    if reconstruction_error > threshold:\n",
    "        print(\"Face detected!\")\n",
    "    else:\n",
    "        print(\"No face detected.\")\n",
    "\n",
    "autoencoder_model = load_model(\"autoencoder_model.h5\")\n",
    "larger_image_path = \"/Users/vladcalomfirescu/Desktop/MyFiles/FAC/master/an 1/sem 1/PPC/BlurFacesML/data/test_photos/no_face.jpg\"\n",
    "classify_large_image(autoencoder_model, larger_image_path, threshold=0.085)\n"
   ]
  }
 ],
 "metadata": {
  "kernelspec": {
   "display_name": "base",
   "language": "python",
   "name": "python3"
  },
  "language_info": {
   "codemirror_mode": {
    "name": "ipython",
    "version": 3
   },
   "file_extension": ".py",
   "mimetype": "text/x-python",
   "name": "python",
   "nbconvert_exporter": "python",
   "pygments_lexer": "ipython3",
   "version": "3.11.5"
  }
 },
 "nbformat": 4,
 "nbformat_minor": 2
}
